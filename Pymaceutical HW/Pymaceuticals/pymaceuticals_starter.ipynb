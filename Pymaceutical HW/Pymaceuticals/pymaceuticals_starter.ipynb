{
 "cells": [
  {
   "cell_type": "markdown",
   "metadata": {},
   "source": [
    "## Observations and Insights "
   ]
  },
  {
   "cell_type": "markdown",
   "metadata": {},
   "source": []
  },
  {
   "cell_type": "code",
   "execution_count": null,
   "metadata": {},
   "outputs": [],
   "source": [
    "# Dependencies and Setup\n",
    "import matplotlib.pyplot as plt\n",
    "import pandas as pd\n",
    "import scipy.stats as st\n",
    "import numpy as np\n",
    "\n",
    "# Study data files\n",
    "mouse_metadata_path = \"data/Mouse_metadata.csv\"\n",
    "study_results_path = \"data/Study_results.csv\"\n",
    "\n",
    "# Read the mouse data and the study results\n",
    "mouse_metadata = pd.read_csv(mouse_metadata_path)\n",
    "study_results = pd.read_csv(study_results_path)\n",
    "\n",
    "\n",
    "# Combine the data into a single dataset\n",
    "merged_data = pd.merge(mouse_metadata, study_results, on='Mouse ID')\n",
    "\n",
    "# Display the data table for preview\n",
    "merged_data.head()"
   ]
  },
  {
   "cell_type": "code",
   "execution_count": null,
   "metadata": {},
   "outputs": [],
   "source": [
    "# Checking the number of mice.\n",
    "merged_data['Mouse ID'].count()"
   ]
  },
  {
   "cell_type": "code",
   "execution_count": null,
   "metadata": {},
   "outputs": [],
   "source": [
    "# Getting the duplicate mice by ID number that shows up for Mouse ID and Timepoint. \n",
    "merged_data['Mouse ID'].value_counts()"
   ]
  },
  {
   "cell_type": "code",
   "execution_count": null,
   "metadata": {},
   "outputs": [],
   "source": [
    "# Optional: Get all the data for the duplicate mouse ID. \n"
   ]
  },
  {
   "cell_type": "code",
   "execution_count": null,
   "metadata": {},
   "outputs": [],
   "source": [
    "# Create a clean DataFrame by dropping the duplicate mouse by its ID.\n",
    "\n",
    "clean_study_data_complete = merged_data[merged_data['Mouse ID'].isin(merged_data)==False]\n",
    "clean_study_data_complete.head()"
   ]
  },
  {
   "cell_type": "code",
   "execution_count": null,
   "metadata": {},
   "outputs": [],
   "source": [
    "# Checking the number of mice in the clean DataFrame.\n",
    " clean_study_data_complete['Mouse ID'].value_counts()"
   ]
  },
  {
   "cell_type": "markdown",
   "metadata": {},
   "source": [
    "## Summary Statistics"
   ]
  },
  {
   "cell_type": "code",
   "execution_count": null,
   "metadata": {},
   "outputs": [],
   "source": [
    "# Generate a summary statistics table of mean, median, variance, standard deviation, and SEM of the tumor volume for each regimen\n",
    "\n",
    "mean = clean_study_data_complete.groupby('Drug Regimen').mean()['Tumor Volume (mm3)']\n",
    "median = clean_study_data_complete.groupby('Drug Regimen').median()['Tumor Volume (mm3)']\n",
    "var = clean_study_data_complete.groupby('Drug Regimen').var()['Tumor Volume (mm3)']\n",
    "std_dev = clean_study_data_complete.groupby('Drug Regimen').std()['Tumor Volume (mm3)']\n",
    "sem = clean_study_data_complete.groupby('Drug Regimen').sem()['Tumor Volume (mm3)']\n",
    "\n",
    "sumstat = pd.DataFrame(mean)\n",
    "sumstats = sumstat.rename(columns={\"Tumor Volume (mm3)\": \"Mean\"})\n",
    "\n",
    "sumstats[\"Median\"] = median\n",
    "sumstats[\"Variance\"] = var\n",
    "sumstats[\"Standard Deviation\"] = std_dev\n",
    "sumstats[\"SEM\"] = sem\n",
    "\n",
    "sumstats\n",
    "# This method is the most straighforward, creating multiple series and putting them all together at the end.\n",
    "\n"
   ]
  },
  {
   "cell_type": "code",
   "execution_count": null,
   "metadata": {},
   "outputs": [],
   "source": [
    "# Generate a summary statistics table of mean, median, variance, standard deviation, and SEM of the tumor volume for each regimen\n",
    "\n",
    "stats_data = clean_study_data_complete.groupby('Drug Regimen')\n",
    "stat_sum = stats_data.agg(['mean','median','var','std','sem'])[\"Tumor Volume (mm3)\"]\n",
    "stat_sum\n",
    "# This method produces everything in a single groupby function\n"
   ]
  },
  {
   "cell_type": "markdown",
   "metadata": {},
   "source": [
    "## Bar and Pie Charts"
   ]
  },
  {
   "cell_type": "code",
   "execution_count": null,
   "metadata": {},
   "outputs": [],
   "source": [
    "# Generate a bar plot showing the total number of mice for each treatment throughout the course of the study using pandas. \n",
    "\n",
    "regimen_data_points = clean_study_data_complete.groupby([\"Drug Regimen\"]).count()[\"Mouse ID\"]\n",
    "\n",
    "regimen_data_points.plot(kind=\"bar\")\n",
    "\n",
    "#set chart label\n",
    "plt.title(\"Mice Trials per Drug Regimen\")\n",
    "plt.xlabel(\"Drug Regimen\")\n",
    "plt.ylabel(\"Total Number of Mice\")\n",
    "\n",
    "plt.show()\n"
   ]
  },
  {
   "cell_type": "code",
   "execution_count": null,
   "metadata": {},
   "outputs": [],
   "source": [
    "# Generate a bar plot showing the total number of mice for each treatment throughout the course of the study using pyplot.\n",
    "x_axis = np.arange(len(regimen_data_points))\n",
    "\n",
    "tick_locations = [value for value in x_axis]\n",
    "\n",
    "\n",
    "plt.title(\"Mice Trials per Drug Regimen\")\n",
    "plt.xlabel(\"Drug Regimen\")\n",
    "plt.ylabel(\"Total Number of Mice\")\n",
    "plt.bar(x_axis, regimen_data_points, color = \"g\", width = .5)\n",
    "plt.xticks(tick_locations, regimen_data_points.index.values, rotation=\"vertical\")\n",
    "\n",
    "\n",
    "plt.xlim(-0.5, len(x_axis)-.5)\n",
    "plt.ylim(0, max(regimen_data_points)+5)\n",
    "plt.figure(figsize=(6,4))\n",
    "\n",
    "\n",
    "plt.show()\n"
   ]
  },
  {
   "cell_type": "code",
   "execution_count": null,
   "metadata": {},
   "outputs": [],
   "source": [
    "# Generate a pie plot showing the distribution of female versus male mice using pandas\n",
    "cir_data = clean_study_data_complete.groupby([\"Sex\"]).count()[\"Mouse ID\"]\n",
    "color = [\"yellow\",\"green\"]\n",
    "explodes = (0,0)\n",
    "\n",
    "plt.pie(cir_data, explode=explodes, labels=cir_data.index.values, colors=color,\n",
    "        autopct=\"%1.1f%%\", shadow=True, startangle=140)\n",
    "\n",
    "# Set a title for the chart\n",
    "plt.title(\"Distribution by Sex\")\n",
    "plt.ylabel('Sex')\n",
    "\n",
    "\n",
    "plt.show()\n",
    "\n"
   ]
  },
  {
   "cell_type": "code",
   "execution_count": null,
   "metadata": {},
   "outputs": [],
   "source": [
    "# Generate a pie plot showing the distribution of female versus male mice using pyplot\n",
    "gender = clean_study_data_complete.groupby(\"Sex\").count()\n",
    "gender_cnt = [gender[\"Mouse ID\"]]\n",
    "\n",
    "\n",
    "secondpie = gender[\"Mouse ID\"].plot.pie(y='gender_cnt', figsize=(5, 5), autopct=\"%1.1f%%\")\n",
    "plt.title('Distribution by Sex')\n",
    "plt.ylabel('Sex')\n",
    "\n",
    "plt.show()\n"
   ]
  },
  {
   "cell_type": "markdown",
   "metadata": {},
   "source": [
    "## Quartiles, Outliers and Boxplots"
   ]
  },
  {
   "cell_type": "code",
   "execution_count": null,
   "metadata": {},
   "outputs": [],
   "source": []
  },
  {
   "cell_type": "code",
   "execution_count": null,
   "metadata": {},
   "outputs": [],
   "source": [
    "# Calculate the final tumor volume of each mouse across four of the treatment regimens:  \n",
    "# Capomulin, Ramicane, Infubinol, and Ceftamin\n",
    "capomulin_df = clean_study_data_complete.loc[clean_study_data_complete[\"Drug Regimen\"] == \"Capomulin\",:]\n",
    "ramicane_df = clean_study_data_complete.loc[clean_study_data_complete[\"Drug Regimen\"] == \"Ramicane\", :]\n",
    "infubinol_df = clean_study_data_complete.loc[clean_study_data_complete[\"Drug Regimen\"] == \"Infubinol\", :]\n",
    "ceftamin_df = clean_study_data_complete.loc[clean_study_data_complete[\"Drug Regimen\"] == \"Ceftamin\", :]\n",
    "\n",
    "\n",
    "\n",
    "# Start by getting the last (greatest) timepoint for each mouse\n",
    "capomulin_last = capomulin_df.groupby('Mouse ID').max()['Timepoint']\n",
    "capomulin_lastvol = pd.DataFrame(capomulin_last)\n",
    "\n",
    "\n",
    "capomulin_lastmerge = pd.merge(capomulin_lastvol, clean_study_data_complete, on=(\"Mouse ID\",\"Timepoint\"),how=\"left\")\n",
    "capomulin_lastmerge.head()"
   ]
  },
  {
   "cell_type": "code",
   "execution_count": null,
   "metadata": {},
   "outputs": [],
   "source": [
    "ramicane_last = ramicane_df.groupby('Mouse ID').max()['Timepoint']\n",
    "ramicane_lastvol = pd.DataFrame(ramicane_last)\n",
    "\n",
    "\n",
    "ramicane_lastmerge = pd.merge(ramicane_lastvol, clean_study_data_complete, on=(\"Mouse ID\",\"Timepoint\"),how=\"left\")\n",
    "ramicane_lastmerge.head()"
   ]
  },
  {
   "cell_type": "code",
   "execution_count": null,
   "metadata": {},
   "outputs": [],
   "source": [
    "infubinol_last = infubinol_df.groupby('Mouse ID').max()['Timepoint']\n",
    "infubinol_lastvol = pd.DataFrame(infubinol_last)\n",
    "\n",
    "\n",
    "infubinol_lastmerge = pd.merge(infubinol_lastvol, clean_study_data_complete, on=(\"Mouse ID\",\"Timepoint\"),how=\"left\")\n",
    "infubinol_lastmerge.head()"
   ]
  },
  {
   "cell_type": "code",
   "execution_count": null,
   "metadata": {},
   "outputs": [],
   "source": [
    "ceftamin_last = ceftamin_df.groupby('Mouse ID').max()['Timepoint']\n",
    "ceftamin_lastvol = pd.DataFrame(ceftamin_last)\n",
    "\n",
    "\n",
    "ceftamin_lastmerge = pd.merge(ceftamin_lastvol, clean_study_data_complete, on=(\"Mouse ID\",\"Timepoint\"),how=\"left\")\n",
    "ceftamin_lastmerge.head()"
   ]
  },
  {
   "cell_type": "code",
   "execution_count": null,
   "metadata": {},
   "outputs": [],
   "source": [
    "# Calculate the IQR and quantitatively determine if there are any potential outliers.\n",
    "\n",
    "#Capomulin IQR and tumor volume\n",
    "captumors = capomulin_lastmerge[\"Tumor Volume (mm3)\"]\n",
    "\n",
    "cap_quartiles = captumors.quantile([.25,.5,.75])\n",
    "cap_lower = cap_quartiles[0.25]\n",
    "cap_upper = cap_quartiles[0.75]\n",
    "cap_iqr = cap_upper-cap_lower\n",
    "\n",
    "cap_lower_bound = round(cap_lower - (1.5*cap_iqr),2)\n",
    "cap_upper_bound = round(cap_upper + (1.5*cap_iqr),2)\n",
    "\n",
    "#Ramicane IQR and tumor volume\n",
    "ramtumors = ramicane_lastmerge[\"Tumor Volume (mm3)\"]\n",
    "\n",
    "ram_quartiles = ramtumors.quantile([.25,.5,.75])\n",
    "ram_lower = ram_quartiles[0.25]\n",
    "ram_upper = ram_quartiles[0.75]\n",
    "ram_iqr = ram_upper-ram_lower\n",
    "\n",
    "ram_lower_bound = round(ram_lower - (1.5*ram_iqr),2)\n",
    "ram_upper_bound = round(ram_upper + (1.5*ram_iqr),2)\n",
    "\n",
    "#Infubinol IQR and tumor volume\n",
    "inftumors = infubinol_lastmerge[\"Tumor Volume (mm3)\"]\n",
    "\n",
    "inf_quartiles = inftumors.quantile([.25,.5,.75])\n",
    "inf_lower = inf_quartiles[0.25]\n",
    "inf_upper = inf_quartiles[0.75]\n",
    "inf_iqr = inf_upper-inf_lower\n",
    "\n",
    "inf_lower_bound = round(inf_lower - (1.5*inf_iqr),2)\n",
    "inf_upper_bound = round(inf_upper + (1.5*inf_iqr),2)\n",
    "\n",
    "#Ceftamin IQR and tumor volume\n",
    "ceftumors = ceftamin_lastmerge[\"Tumor Volume (mm3)\"]\n",
    "\n",
    "cef_quartiles = ceftumors.quantile([.25,.5,.75])\n",
    "cef_lower = cef_quartiles[0.25]\n",
    "cef_upper = cef_quartiles[0.75]\n",
    "cef_iqr = cef_upper-cef_lower\n",
    "\n",
    "cef_lower_bound = round(cef_lower - (1.5*cef_iqr),2)\n",
    "cef_upper_bound = round(cef_upper + (1.5*cef_iqr),2)\n",
    " \n",
    "    # Determine outliers using upper and lower bounds\n",
    "print(f\"The Capomulin outliers are values below {cap_lower_bound} and above {cap_upper_bound}.\")\n",
    "print(f\"The Ramicane outliers are values below {ram_lower_bound} and above {ram_upper_bound}.\")\n",
    "print(f\"The Infubinol outliers are values below {inf_lower_bound} and above {inf_upper_bound}.\")\n",
    "print(f\"The Ceftamin outliers are values below {cef_lower_bound} and above {cef_upper_bound}.\")"
   ]
  },
  {
   "cell_type": "code",
   "execution_count": null,
   "metadata": {},
   "outputs": [],
   "source": [
    "# Generate a box plot of the final tumor volume of each mouse across four regimens of interest\n",
    "tumor_vol = [captumors, ramtumors, inftumors, ceftumors]\n",
    "\n",
    "fig1, ax1 = plt.subplots()\n",
    "ax1.set_title('Tumors Volume per Regimen')\n",
    "ax1.set_ylabel( 'Tumor Volume (mm3)')\n",
    "ax1.set_xlabel('Drug Regimen')\n",
    "\n",
    "ax1.boxplot(tumor_vol, labels=[\"Capomulin\",\"Ramicane\",\"Infubinol\",\"Ceftamin\",])\n",
    "\n",
    "plt.show()"
   ]
  },
  {
   "cell_type": "markdown",
   "metadata": {},
   "source": [
    "## Line and Scatter Plots"
   ]
  },
  {
   "cell_type": "code",
   "execution_count": null,
   "metadata": {},
   "outputs": [],
   "source": [
    "# Generate a line plot of time point versus tumor volume for a mouse treated with Capomulin\n",
    "\n",
    "#This is a line graph for all mice on the Capomulin regimen\n",
    "linex_axis = capomulin_df[\"Timepoint\"]\n",
    "tumvol = capomulin_df[\"Tumor Volume (mm3)\"]\n",
    "\n",
    "\n",
    "plt.plot(linex_axis, tumvol,linewidth=2, markersize=12)\n",
    "plt.title('Capomulin Tumor Growth')\n",
    "plt.xlabel('Timepoint (Days)')\n",
    "plt.ylabel('Tumor Volume (mm3)')\n",
    "\n",
    "plt.savefig('linechart')\n",
    "plt.show()\n",
    "\n",
    "\n",
    "#This is a line graph for one mice on the Capomulin regimen\n",
    "line_df = capomulin_df.loc[capomulin_df[\"Mouse ID\"] == \"b128\",:]\n",
    "\n",
    "x_axis1 = line_df[\"Timepoint\"]\n",
    "tumvol1 = line_df[\"Tumor Volume (mm3)\"]\n",
    "\n",
    "plt.title('Capomulin Tumor Growth: Mouse B128')\n",
    "plt.plot(x_axis1, tumvol1,linewidth=2, markersize=12)\n",
    "plt.xlabel('Timepoint (Days)')\n",
    "plt.ylabel('Tumor Volume (mm3)')\n",
    "plt.show()"
   ]
  },
  {
   "cell_type": "code",
   "execution_count": null,
   "metadata": {},
   "outputs": [],
   "source": [
    "# Generate a scatter plot of mouse weight versus average tumor volume for the Capomulin regimen\n",
    "mouse_weight = capomulin_df.groupby(capomulin_df[\"Mouse ID\"])[\"Weight (g)\"].mean()\n",
    "tumor_volume = capomulin_df.groupby(capomulin_df[\"Mouse ID\"])[\"Tumor Volume (mm3)\"].mean()\n",
    "\n",
    "# Create Scatter Plot with values calculated above\n",
    "plt.scatter(mouse_weight,tumor_volume)\n",
    "plt.xlabel(\"Weight of Mouse\")\n",
    "plt.ylabel(\"Tumor Volume\")\n",
    "plt.show()"
   ]
  },
  {
   "cell_type": "markdown",
   "metadata": {},
   "source": [
    "## Correlation and Regression"
   ]
  },
  {
   "cell_type": "code",
   "execution_count": null,
   "metadata": {},
   "outputs": [],
   "source": [
    "# Calculate the correlation coefficient and linear regression model \n",
    "\n",
    "# Caculate correlation coefficient\n",
    "correlation = round(st.pearsonr(mouse_weight,tumor_volume)[0],2)\n",
    "print(f'The correlation between weight and tumor value is {correlation}')\n",
    "\n",
    "# Perform a linear regression on year versus violent crime rate\n",
    "slope, int, r, p, std_err = st.linregress(mouse_weight, tumor_volume)\n",
    "      \n",
    "# Create equation of the slope\n",
    "y_value = slope * mouse_weight + int\n",
    "\n",
    "# Plot the linear model on top of scatter plot \n",
    "plt.scatter(mouse_weight,tumor_volume)\n",
    "plt.xlabel(\"Weight of Mouse\")\n",
    "plt.ylabel(\"Tumor Volume\")\n",
    "plt.plot(mouse_weight,y_value,color = 'g')\n",
    "plt.xticks(mouse_weight, rotation=90)\n",
    "plt.show()\n",
    "\n",
    "\n"
   ]
  },
  {
   "cell_type": "code",
   "execution_count": null,
   "metadata": {},
   "outputs": [],
   "source": []
  },
  {
   "cell_type": "code",
   "execution_count": null,
   "metadata": {},
   "outputs": [],
   "source": []
  },
  {
   "cell_type": "code",
   "execution_count": null,
   "metadata": {},
   "outputs": [],
   "source": []
  }
 ],
 "metadata": {
  "anaconda-cloud": {},
  "kernelspec": {
   "display_name": "Python 3",
   "language": "python",
   "name": "python3"
  },
  "language_info": {
   "codemirror_mode": {
    "name": "ipython",
    "version": 3
   },
   "file_extension": ".py",
   "mimetype": "text/x-python",
   "name": "python",
   "nbconvert_exporter": "python",
   "pygments_lexer": "ipython3",
   "version": "3.6.10"
  }
 },
 "nbformat": 4,
 "nbformat_minor": 2
}
